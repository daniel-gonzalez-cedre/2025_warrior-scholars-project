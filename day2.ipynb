{
 "cells": [
  {
   "cell_type": "code",
   "execution_count": 1,
   "metadata": {
    "colab": {
     "base_uri": "https://localhost:8080/"
    },
    "id": "z0-AKhs7n8pH",
    "outputId": "fbeab677-9c2c-48b0-817e-e759be324346"
   },
   "outputs": [
    {
     "name": "stdout",
     "output_type": "stream",
     "text": [
      "the secret message is:\t Caesar commands: kill Cato the Elder!\n"
     ]
    }
   ],
   "source": [
    "message = \"Caesar commands: kill Cato the Elder!\"\n",
    "print(\"the secret message is:\\t\", message)"
   ]
  },
  {
   "cell_type": "code",
   "execution_count": 2,
   "metadata": {
    "id": "lIYdn1woOS1n"
   },
   "outputs": [],
   "source": [
    "# returns a bool value\n",
    "def is_valid_lower(c):\n",
    "  return ord(\"a\") <= ord(c) <= ord(\"z\")\n",
    "\n",
    "# returns a bool value\n",
    "def is_valid_upper(c):\n",
    "  return ord(\"A\") <= ord(c) <= ord(\"Z\")"
   ]
  },
  {
   "cell_type": "code",
   "execution_count": 3,
   "metadata": {
    "colab": {
     "base_uri": "https://localhost:8080/"
    },
    "id": "gsZXjS3JouUQ",
    "outputId": "0a2f7dd8-9084-4cbf-a049-dd5cff99a1e1"
   },
   "outputs": [
    {
     "name": "stdout",
     "output_type": "stream",
     "text": [
      "True\n",
      "True\n",
      "True\n",
      "True\n",
      "True\n",
      "True\n",
      "False\n",
      "True\n",
      "True\n",
      "True\n",
      "True\n",
      "True\n",
      "True\n",
      "True\n",
      "True\n",
      "False\n",
      "False\n",
      "True\n",
      "True\n",
      "True\n",
      "True\n",
      "False\n",
      "True\n",
      "True\n",
      "True\n",
      "True\n",
      "False\n",
      "True\n",
      "True\n",
      "True\n",
      "False\n",
      "True\n",
      "True\n",
      "True\n",
      "True\n",
      "True\n",
      "False\n"
     ]
    }
   ],
   "source": [
    "for character in message:\n",
    "  print(is_valid_lower(character) or is_valid_upper(character))"
   ]
  },
  {
   "cell_type": "code",
   "execution_count": 4,
   "metadata": {
    "id": "zDxhpA7jnsW0"
   },
   "outputs": [],
   "source": [
    "def encrypt(message, shift):\n",
    "  result = \"\"\n",
    "\n",
    "  for character in message:\n",
    "    # this conditional block resets the range to be [0, 1, ... 24, 25]\n",
    "    if is_valid_lower(character):\n",
    "      normalized = ord(character) - ord(\"a\")\n",
    "    elif is_valid_upper(character):\n",
    "      normalized = ord(character) - ord(\"A\")\n",
    "    else:\n",
    "      result = result + character  # do not encrypt special characters\n",
    "      continue  # skips the rest of this indented block and goes straight to the next character in `message`\n",
    "\n",
    "    # FOR ENCRYPTION, SHIFT RIGHT (OR LEFT; YOU CHOOSE, BUT BE CONSISTENT)\n",
    "    shifted = normalized + shift\n",
    "\n",
    "    corrected = shifted % 26  # brings `shifted` back in range [0, ... 25] by finding the remainder `shifted / 26`\n",
    "\n",
    "    if is_valid_lower(character):\n",
    "      encrypted = chr(corrected + ord(\"a\"))\n",
    "    elif is_valid_upper(character):\n",
    "      encrypted = chr(corrected + ord(\"A\"))\n",
    "\n",
    "    result = result + encrypted\n",
    "\n",
    "  return result"
   ]
  },
  {
   "cell_type": "code",
   "execution_count": 5,
   "metadata": {
    "colab": {
     "base_uri": "https://localhost:8080/"
    },
    "id": "r2XtDkwbpHYa",
    "outputId": "05ddc9c3-d3c4-490e-9ba3-397f45e85f11"
   },
   "outputs": [
    {
     "name": "stdout",
     "output_type": "stream",
     "text": [
      "Ljnbja lxvvjwmb: truu Ljcx cqn Numna!\n"
     ]
    }
   ],
   "source": [
    "encrypted = encrypt(message, 35)\n",
    "print(encrypted)"
   ]
  },
  {
   "cell_type": "code",
   "execution_count": 6,
   "metadata": {
    "id": "9z140YlonzRJ"
   },
   "outputs": [],
   "source": [
    "def decrypt(message, shift):\n",
    "  result = \"\"\n",
    "\n",
    "  for character in message:\n",
    "    # this conditional block resets the range to be [0, 1, ... 24, 25]\n",
    "    if is_valid_lower(character):\n",
    "      normalized = ord(character) - ord(\"a\")\n",
    "    elif is_valid_upper(character):\n",
    "      normalized = ord(character) - ord(\"A\")\n",
    "    else:\n",
    "      result = result + character  # no need to decrypt special characters\n",
    "      continue  # skips the rest of this indented block and goes straight to the next character in `message`\n",
    "\n",
    "    # FOR DECRYPTION, SHIFT IN THE OPPOSITE DIRECTION\n",
    "    shifted = normalized - shift\n",
    "\n",
    "    corrected = shifted % 26  # brings `shifted` back in range [0, ... 25] by finding the remainder `shifted / 26`\n",
    "\n",
    "    if is_valid_lower(character):\n",
    "      encrypted = chr(corrected + ord(\"a\"))\n",
    "    elif is_valid_upper(character):\n",
    "      encrypted = chr(corrected + ord(\"A\"))\n",
    "\n",
    "    result = result + encrypted\n",
    "\n",
    "  return result"
   ]
  },
  {
   "cell_type": "code",
   "execution_count": 7,
   "metadata": {
    "colab": {
     "base_uri": "https://localhost:8080/"
    },
    "id": "yavCx8TrpPjW",
    "outputId": "da48fa87-1daf-4a1b-ea19-e775d3f98b0b"
   },
   "outputs": [
    {
     "name": "stdout",
     "output_type": "stream",
     "text": [
      "Caesar commands: kill Cato the Elder!\n"
     ]
    }
   ],
   "source": [
    "decrypted = decrypt(encrypted, 35)\n",
    "print(decrypted)"
   ]
  },
  {
   "cell_type": "code",
   "execution_count": 8,
   "metadata": {
    "id": "jY8m9am5n1Qw"
   },
   "outputs": [],
   "source": [
    "def brutus_force(cipher):\n",
    "  candidates = []\n",
    "\n",
    "  # read a dictionary of English language words from a file\n",
    "  # the file MUST BE IN THE SAME DIRECTORY\n",
    "  with open(\"words_alpha.txt\", \"r\") as file:\n",
    "    dictionary = {line.strip().lower() for line in file}  # store lowercased words in a `set` which makes checking elementhood fast\n",
    "\n",
    "  # the `range(start, end)` function produces a `list` of integers between `start` and `end`\n",
    "  #   the range of integers DOES include `start`\n",
    "  #   the range of integers DOES NOT include `end`\n",
    "  # you can also call it like `range(end)` in which case `start` is assumed to be 0 by default\n",
    "  for k in range(0, 26):\n",
    "    attempt = decrypt(cipher, k)\n",
    "    alphanumeric = attempt.strip().replace(\":;,.!?`\\'\\\"<>()[]{}@#$%^&*+-_=/\\\\~\", \"\")  # removes special chars\n",
    "    words = alphanumeric.split(\" \")\n",
    "    # print(\"shift =\", k, \"\\t\", words)  # COMMENT or UNCOMMENT this line to see the intermediate computations\n",
    "\n",
    "    # check to see if `words` actually contains English-language words\n",
    "    for word in words:\n",
    "      if word.lower() in dictionary:  # make `word` lowercase, since our dictionary is standardized to lowercase\n",
    "        candidates.append(k)\n",
    "        break  # breaks out of the loop and continues to the code that comes AFTER the `for` loop block\n",
    "\n",
    "  return candidates"
   ]
  },
  {
   "cell_type": "code",
   "execution_count": 9,
   "metadata": {
    "colab": {
     "base_uri": "https://localhost:8080/"
    },
    "id": "dZ0xcD2sn4rc",
    "outputId": "b3faffe4-5a57-4cbb-f806-5fe06d09fa19"
   },
   "outputs": [
    {
     "name": "stdout",
     "output_type": "stream",
     "text": [
      "[9, 10, 16, 22, 24]\n",
      "shift = 9:\t Caesar commands: kill Cato the Elder!\n",
      "shift = 10:\t Bzdrzq bnllzmcr: jhkk Bzsn sgd Dkcdq!\n",
      "shift = 16:\t Vtxltk vhfftgwl: dbee Vtmh max Xewxk!\n",
      "shift = 22:\t Pnrfne pbzznaqf: xvyy Pngb gur Ryqre!\n",
      "shift = 24:\t Nlpdlc nzxxlyod: vtww Nlez esp Pwopc!\n"
     ]
    }
   ],
   "source": [
    "candidates = brutus_force(encrypted)\n",
    "print(candidates)\n",
    "\n",
    "# testing our candidate solutions\n",
    "for candidate in candidates:\n",
    "  print(f\"shift = {candidate}:\\t\", decrypt(encrypted, candidate))"
   ]
  },
  {
   "cell_type": "code",
   "execution_count": null,
   "metadata": {
    "id": "yi23IAoIqm-M"
   },
   "outputs": [],
   "source": []
  }
 ],
 "metadata": {
  "colab": {
   "name": "scratchpad",
   "provenance": []
  },
  "kernelspec": {
   "display_name": "Python 3 (ipykernel)",
   "language": "python",
   "name": "python3"
  },
  "language_info": {
   "codemirror_mode": {
    "name": "ipython",
    "version": 3
   },
   "file_extension": ".py",
   "mimetype": "text/x-python",
   "name": "python",
   "nbconvert_exporter": "python",
   "pygments_lexer": "ipython3",
   "version": "3.13.5"
  }
 },
 "nbformat": 4,
 "nbformat_minor": 4
}
