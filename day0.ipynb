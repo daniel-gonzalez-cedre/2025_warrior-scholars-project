{
  "nbformat": 4,
  "nbformat_minor": 0,
  "metadata": {
    "colab": {
      "provenance": []
    },
    "kernelspec": {
      "name": "python3",
      "display_name": "Python 3"
    },
    "language_info": {
      "name": "python"
    }
  },
  "cells": [
    {
      "cell_type": "code",
      "source": [
        "y = 5\n",
        "message = \"goodbye\"\n",
        "message2 = \"hello\"\n",
        "print(message2)\n",
        "# print(z)\n",
        "# this is a comment"
      ],
      "metadata": {
        "colab": {
          "base_uri": "https://localhost:8080/"
        },
        "id": "tAyhhNk657M1",
        "outputId": "a1b307cd-346a-449d-de23-00e6ffe06c9e"
      },
      "execution_count": null,
      "outputs": [
        {
          "output_type": "stream",
          "name": "stdout",
          "text": [
            "hello\n"
          ]
        }
      ]
    },
    {
      "cell_type": "code",
      "execution_count": null,
      "metadata": {
        "colab": {
          "base_uri": "https://localhost:8080/"
        },
        "id": "jNvVTfSM5v0P",
        "outputId": "656b4f3c-d64e-4ca1-a47e-17857ec2e0bf"
      },
      "outputs": [
        {
          "output_type": "stream",
          "name": "stdout",
          "text": [
            "goodbye\n"
          ]
        }
      ],
      "source": [
        "print(message)"
      ]
    },
    {
      "cell_type": "code",
      "source": [
        "message = message2\n",
        "print(message)\n"
      ],
      "metadata": {
        "id": "IkOjrZOo8tUI"
      },
      "execution_count": null,
      "outputs": []
    },
    {
      "cell_type": "code",
      "source": [
        "x = 123\n",
        "print(2*(x + 1))"
      ],
      "metadata": {
        "colab": {
          "base_uri": "https://localhost:8080/"
        },
        "id": "XdYEoOzo9NrK",
        "outputId": "613e7e4f-92b4-43a0-bbd2-f3dcb9cef9f9"
      },
      "execution_count": null,
      "outputs": [
        {
          "output_type": "stream",
          "name": "stdout",
          "text": [
            "248\n"
          ]
        }
      ]
    },
    {
      "cell_type": "code",
      "source": [
        "print(x)"
      ],
      "metadata": {
        "colab": {
          "base_uri": "https://localhost:8080/"
        },
        "id": "Bhpiv6WT9USp",
        "outputId": "eeb3856e-cb76-4f1b-e2ef-a6d5c1ec0d30"
      },
      "execution_count": null,
      "outputs": [
        {
          "output_type": "stream",
          "name": "stdout",
          "text": [
            "123\n"
          ]
        }
      ]
    },
    {
      "cell_type": "code",
      "source": [
        "print(y)\n",
        "z = 10"
      ],
      "metadata": {
        "colab": {
          "base_uri": "https://localhost:8080/"
        },
        "id": "xLkF_zmt9fHB",
        "outputId": "c15d1714-d2bc-4847-e6ac-1e10f65c6ba7"
      },
      "execution_count": null,
      "outputs": [
        {
          "output_type": "stream",
          "name": "stdout",
          "text": [
            "5\n"
          ]
        }
      ]
    },
    {
      "cell_type": "code",
      "source": [],
      "metadata": {
        "id": "sD5ppjQoCySH"
      },
      "execution_count": null,
      "outputs": []
    },
    {
      "cell_type": "code",
      "source": [
        "# string types: for messages\n",
        "a = \"my favorite car is the Mazda Miata\"\n",
        "# a is the name of a string\n",
        "print(a)\n",
        "\n",
        "b = \"but I don't like Ford cars\"\n",
        "print(a, b)\n",
        "\n",
        "# concatenate strings to combine them together\n",
        "print(a + b)\n",
        "\n",
        "print(\"Toyotas are fine too, i guess\")\n",
        "\n",
        "print(2*\"hello\")"
      ],
      "metadata": {
        "colab": {
          "base_uri": "https://localhost:8080/"
        },
        "id": "Enb062opEPtq",
        "outputId": "14f5130d-08d7-4a90-b30d-8b1f80805f0a"
      },
      "execution_count": null,
      "outputs": [
        {
          "output_type": "stream",
          "name": "stdout",
          "text": [
            "my favorite car is the Mazda Miata\n",
            "my favorite car is the Mazda Miata but I don't like Ford cars\n",
            "my favorite car is the Mazda Miatabut I don't like Ford cars\n",
            "Toyotas are fine too, i guess\n"
          ]
        }
      ]
    },
    {
      "cell_type": "code",
      "source": [
        "# int types: for whole numbers---positive, negative, or zero\n",
        "x = 1\n",
        "y = 2\n",
        "# print(x + y)\n",
        "\n",
        "# print(x * y)\n",
        "\n",
        "# print(x / y)\n",
        "# print(1 / 2) # float, not an integer!\n",
        "z = 1 / 2\n",
        "# print(z)\n",
        "\n",
        "print(8 / 4)\n",
        "print(8 // 4)\n",
        "\n",
        "print(8 / 3)\n",
        "print(8 // 3)\n",
        "\n",
        "print(-8 / 3)\n",
        "print(-8 // 3)"
      ],
      "metadata": {
        "colab": {
          "base_uri": "https://localhost:8080/"
        },
        "id": "DSLPsQ3zEYRx",
        "outputId": "9d8def94-7128-4bf6-c1d9-4b23f1a181a4"
      },
      "execution_count": null,
      "outputs": [
        {
          "output_type": "stream",
          "name": "stdout",
          "text": [
            "2.0\n",
            "2\n",
            "2.6666666666666665\n",
            "2\n",
            "-2.6666666666666665\n",
            "-3\n"
          ]
        }
      ]
    },
    {
      "cell_type": "code",
      "source": [
        "# print(x + a)\n",
        "# print(1 + \"hello\")"
      ],
      "metadata": {
        "id": "EDNQcFZ1HK56"
      },
      "execution_count": null,
      "outputs": []
    },
    {
      "cell_type": "code",
      "source": [
        "my_new_variable = int(5 / 3)\n",
        "print(my_new_variable)\n",
        "print(5/3)\n",
        "\n",
        "print(round(5/3))\n",
        "print(round(-5/3))"
      ],
      "metadata": {
        "colab": {
          "base_uri": "https://localhost:8080/"
        },
        "id": "Q3asG6LaHuR5",
        "outputId": "55997a76-27c5-406a-8e4f-68e68b08b55b"
      },
      "execution_count": null,
      "outputs": [
        {
          "output_type": "stream",
          "name": "stdout",
          "text": [
            "1\n",
            "1.6666666666666667\n",
            "2\n",
            "-2\n"
          ]
        }
      ]
    },
    {
      "cell_type": "code",
      "source": [
        "print(\"this is a message\")\n",
        "\n",
        "print(\"these are not ouputs\")"
      ],
      "metadata": {
        "colab": {
          "base_uri": "https://localhost:8080/"
        },
        "id": "-Yu3km8lK4fJ",
        "outputId": "c836d03d-b0a2-46c8-a124-2309799afc99"
      },
      "execution_count": null,
      "outputs": [
        {
          "output_type": "stream",
          "name": "stdout",
          "text": [
            "this is a message\n",
            "these are not ouputs\n"
          ]
        }
      ]
    },
    {
      "cell_type": "code",
      "source": [
        "def wsp(micky, michael, jacob, zach):\n",
        "  # micky + michael + jacob + zach\n",
        "  return micky + michael + jacob + zach\n",
        "\n",
        "  # 100 + 200 + 300\n",
        "  # \"hello\" + \"goodbye\"\n",
        "  # for i in range(100000000000):\n",
        "  #   pass"
      ],
      "metadata": {
        "id": "i7KBjWefMTPx"
      },
      "execution_count": null,
      "outputs": []
    },
    {
      "cell_type": "code",
      "source": [
        "# print(wsp)\n",
        "# print(print)\n",
        "\n",
        "result = wsp(5, 2, 9, 100)\n",
        "print(result)\n"
      ],
      "metadata": {
        "colab": {
          "base_uri": "https://localhost:8080/"
        },
        "id": "A1sqznJDNyjC",
        "outputId": "7e2fd999-b33b-4f27-a934-8005fb71b463"
      },
      "execution_count": null,
      "outputs": [
        {
          "output_type": "stream",
          "name": "stdout",
          "text": [
            "116\n"
          ]
        }
      ]
    },
    {
      "cell_type": "code",
      "source": [],
      "metadata": {
        "id": "maFC3ZwrOKiL"
      },
      "execution_count": null,
      "outputs": []
    }
  ]
}