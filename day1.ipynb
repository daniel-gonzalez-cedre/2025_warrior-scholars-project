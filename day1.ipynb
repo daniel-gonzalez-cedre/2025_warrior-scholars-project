{
  "nbformat": 4,
  "nbformat_minor": 0,
  "metadata": {
    "colab": {
      "provenance": []
    },
    "kernelspec": {
      "name": "python3",
      "display_name": "Python 3"
    },
    "language_info": {
      "name": "python"
    }
  },
  "cells": [
    {
      "cell_type": "code",
      "execution_count": 8,
      "metadata": {
        "colab": {
          "base_uri": "https://localhost:8080/"
        },
        "id": "BA1GSQVP85fW",
        "outputId": "5186083c-c6b6-4b28-c718-2f499e708f95"
      },
      "outputs": [
        {
          "output_type": "stream",
          "name": "stdout",
          "text": [
            "z is greater than 1!\n"
          ]
        }
      ],
      "source": [
        "x = 5\n",
        "y = 10\n",
        "z = x / y\n",
        "\n",
        "z = 1.25\n",
        "\n",
        "if z > 1:\n",
        "  print(\"z is greater than 1!\")\n",
        "elif z > 0:\n",
        "  print(\"z is positive\")\n",
        "else:\n",
        "  print(\"z is less or equal to 0!\")"
      ]
    },
    {
      "cell_type": "code",
      "source": [
        "m = \"Kill Cato!\"\n",
        "print(m)\n",
        "\n",
        "print(m[0])\n",
        "if m[1] == \"i\":\n",
        "  print(\"e\")\n",
        "print(m[2])\n",
        "print(m[3])\n",
        "print(m[4])\n",
        "print(m[5])\n"
      ],
      "metadata": {
        "colab": {
          "base_uri": "https://localhost:8080/"
        },
        "id": "7kJC4amN-3nD",
        "outputId": "7059b984-5292-4b8a-c5f6-49067767a601"
      },
      "execution_count": 14,
      "outputs": [
        {
          "output_type": "stream",
          "name": "stdout",
          "text": [
            "Kill Cato!\n",
            "K\n",
            "e\n",
            "l\n",
            "l\n",
            " \n",
            "C\n"
          ]
        }
      ]
    },
    {
      "cell_type": "code",
      "source": [
        "for x in \"hello\":\n",
        "  print(\"the character at this position is\", x)"
      ],
      "metadata": {
        "colab": {
          "base_uri": "https://localhost:8080/"
        },
        "id": "E9GXeJMpC_Qp",
        "outputId": "e542a171-0456-424c-abf1-1b44aed61203"
      },
      "execution_count": 16,
      "outputs": [
        {
          "output_type": "stream",
          "name": "stdout",
          "text": [
            "the character at this position is h\n",
            "the character at this position is e\n",
            "the character at this position is l\n",
            "the character at this position is l\n",
            "the character at this position is o\n"
          ]
        }
      ]
    },
    {
      "cell_type": "code",
      "source": [
        "for x in m:\n",
        "  if x == \"i\":\n",
        "    print(\"e\")\n",
        "  else:\n",
        "    print(x)"
      ],
      "metadata": {
        "colab": {
          "base_uri": "https://localhost:8080/"
        },
        "id": "Hn58NSIvE0PX",
        "outputId": "782e65da-a68d-4fe1-c133-d69b2d1c33be"
      },
      "execution_count": 18,
      "outputs": [
        {
          "output_type": "stream",
          "name": "stdout",
          "text": [
            "K\n",
            "e\n",
            "l\n",
            "l\n",
            " \n",
            "C\n",
            "a\n",
            "t\n",
            "o\n",
            "!\n"
          ]
        }
      ]
    },
    {
      "cell_type": "code",
      "source": [
        "for x in m:\n",
        "  #print(x, type(x))\n",
        "  print(x, type(x), ord(x), type(ord(x)))"
      ],
      "metadata": {
        "colab": {
          "base_uri": "https://localhost:8080/"
        },
        "id": "vBNtkB5zFDvk",
        "outputId": "b391f136-18da-4bb9-d79b-378cbea7957c"
      },
      "execution_count": 25,
      "outputs": [
        {
          "output_type": "stream",
          "name": "stdout",
          "text": [
            "K <class 'str'> 75 <class 'int'>\n",
            "i <class 'str'> 105 <class 'int'>\n",
            "l <class 'str'> 108 <class 'int'>\n",
            "l <class 'str'> 108 <class 'int'>\n",
            "  <class 'str'> 32 <class 'int'>\n",
            "C <class 'str'> 67 <class 'int'>\n",
            "a <class 'str'> 97 <class 'int'>\n",
            "t <class 'str'> 116 <class 'int'>\n",
            "o <class 'str'> 111 <class 'int'>\n",
            "! <class 'str'> 33 <class 'int'>\n"
          ]
        }
      ]
    },
    {
      "cell_type": "code",
      "source": [
        "print(ord(\"a\"))\n",
        "print(chr(97))"
      ],
      "metadata": {
        "colab": {
          "base_uri": "https://localhost:8080/"
        },
        "id": "DEM4Ba6yGTSH",
        "outputId": "349e99c0-3a1b-40de-986a-7186b9b7e5ef"
      },
      "execution_count": 27,
      "outputs": [
        {
          "output_type": "stream",
          "name": "stdout",
          "text": [
            "97\n",
            "a\n"
          ]
        }
      ]
    },
    {
      "cell_type": "code",
      "source": [
        "k = 20\n",
        "\n",
        "for x in m:\n",
        "  if x == \" \":\n",
        "    print(x)\n",
        "  else:\n",
        "    ix = ord(x)\n",
        "    shift_ix = ix + k\n",
        "\n",
        "    if (97 <= shift_ix) and (shift_ix <= 122) :\n",
        "      print(\"hello\")\n",
        "\n",
        "    shift_x = chr(shift_ix)\n",
        "    print(shift_x)\n",
        "# for x in m:\n",
        "#   print(chr(ord(x) + 4))"
      ],
      "metadata": {
        "colab": {
          "base_uri": "https://localhost:8080/"
        },
        "id": "TtXLop_jHLVb",
        "outputId": "d8bd7294-5fef-4e83-ab55-7608f135fb7d"
      },
      "execution_count": 43,
      "outputs": [
        {
          "output_type": "stream",
          "name": "stdout",
          "text": [
            "_\n",
            "}\n",
            "\n",
            "\n",
            " \n",
            "W\n",
            "hello\n",
            "u\n",
            "\n",
            "\n",
            "5\n"
          ]
        }
      ]
    },
    {
      "cell_type": "code",
      "source": [
        "start = ord(\"a\")\n",
        "end = ord(\"z\")\n",
        "print(start)\n",
        "print(end)\n",
        "print(end - start + 1)\n",
        "\n",
        "print(ord(\"c\") <= 122)"
      ],
      "metadata": {
        "colab": {
          "base_uri": "https://localhost:8080/"
        },
        "id": "9jw8YscvJUoT",
        "outputId": "ae180ee0-5d5e-43bc-9df9-abab04f1cfd8"
      },
      "execution_count": 40,
      "outputs": [
        {
          "output_type": "stream",
          "name": "stdout",
          "text": [
            "97\n",
            "122\n",
            "26\n",
            "True\n"
          ]
        }
      ]
    },
    {
      "cell_type": "code",
      "source": [
        "message = \"helloworld\"\n",
        "midpoint = (97 + 122) // 2\n",
        "for x in message:\n",
        "  # if ord(x) >= midpoint:\n",
        "  #   print(x)\n",
        "  # else:\n",
        "  #   print(\"uhhh\")\n",
        "\n",
        "  shifted = ord(x) + 20\n",
        "\n",
        "  if not (97 <= shifted <= 122):\n",
        "    fixed_char = shifted - 26\n",
        "    print(chr(fixed_char), chr(shifted))\n",
        "\n",
        "  # if ord(x) < 97 or ord(x) > 122:\n",
        "  #   print(\"PROBLEM with \", x)\n",
        "  # else:\n",
        "  #   print(x)\n",
        "#\n",
        "  # if not (97 <= ord(x) <= 122):\n",
        "  #   print(\"PROBLEM with \", x)\n",
        "  # else:\n",
        "  #   print(x)"
      ],
      "metadata": {
        "colab": {
          "base_uri": "https://localhost:8080/"
        },
        "id": "PdO8yCV-JzGp",
        "outputId": "7c94a828-7840-4f47-fa41-691c9ca4caf5"
      },
      "execution_count": 53,
      "outputs": [
        {
          "output_type": "stream",
          "name": "stdout",
          "text": [
            "b |\n",
            "f \n",
            "f \n",
            "i \n",
            "q \n",
            "i \n",
            "l \n",
            "f \n"
          ]
        }
      ]
    },
    {
      "cell_type": "code",
      "source": [
        "def encrypt(message, shift):\n",
        "  result = \"\"\n",
        "\n",
        "  start = 97\n",
        "  end = 122\n",
        "  range = end - start + 1\n",
        "\n",
        "  for character in message:\n",
        "    shifted = ord(character) + shift\n",
        "\n",
        "    if start <= shifted <= end:\n",
        "      pass  # does nothing\n",
        "    else:\n",
        "      shifted = shifted - range\n",
        "\n",
        "    result = result + chr(shifted)\n",
        "\n",
        "  return result"
      ],
      "metadata": {
        "id": "iSHHor-2Mfbz"
      },
      "execution_count": 65,
      "outputs": []
    },
    {
      "cell_type": "code",
      "source": [
        "def decrypt(message, shift):\n",
        "  result = \"\"\n",
        "\n",
        "  start = 97\n",
        "  end = 122\n",
        "  range = end - start + 1\n",
        "\n",
        "  for character in message:\n",
        "    shifted = ord(character) - shift\n",
        "\n",
        "    if start <= shifted <= end:\n",
        "      pass  # do nothing\n",
        "    else:\n",
        "      shifted = shifted + range\n",
        "\n",
        "    result = result + chr(shifted)\n",
        "\n",
        "  return result"
      ],
      "metadata": {
        "id": "Tum5wTlXWPXa"
      },
      "execution_count": 67,
      "outputs": []
    },
    {
      "cell_type": "code",
      "source": [
        "message = \"killcato\"\n",
        "\n",
        "encrypted = encrypt(message, 20)\n",
        "print(message)\n",
        "print(encrypted)\n",
        "\n",
        "decrypted = decrypt(encrypted, 20)\n",
        "print(decrypted)"
      ],
      "metadata": {
        "colab": {
          "base_uri": "https://localhost:8080/"
        },
        "id": "AAJyMnDAUCPb",
        "outputId": "2b86dc2b-8a8e-4b87-eae5-403845f7cec9"
      },
      "execution_count": 69,
      "outputs": [
        {
          "output_type": "stream",
          "name": "stdout",
          "text": [
            "killcato\n",
            "ecffwuni\n",
            "killcato\n"
          ]
        }
      ]
    },
    {
      "cell_type": "code",
      "source": [],
      "metadata": {
        "id": "y1admYXqUE1R"
      },
      "execution_count": null,
      "outputs": []
    }
  ]
}